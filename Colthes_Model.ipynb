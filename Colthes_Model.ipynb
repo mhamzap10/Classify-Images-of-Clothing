{
  "nbformat": 4,
  "nbformat_minor": 0,
  "metadata": {
    "colab": {
      "name": "Colthes Model.ipynb",
      "provenance": [],
      "collapsed_sections": []
    },
    "kernelspec": {
      "name": "python3",
      "display_name": "Python 3"
    }
  },
  "cells": [
    {
      "cell_type": "code",
      "metadata": {
        "id": "q6eWZxoYVaUe",
        "colab_type": "code",
        "outputId": "d2774b75-6716-4b55-fe57-68b3aa9d306d",
        "colab": {
          "base_uri": "https://localhost:8080/",
          "height": 63
        }
      },
      "source": [
        "import tensorflow as tf"
      ],
      "execution_count": 2,
      "outputs": [
        {
          "output_type": "display_data",
          "data": {
            "text/html": [
              "<p style=\"color: red;\">\n",
              "The default version of TensorFlow in Colab will soon switch to TensorFlow 2.x.<br>\n",
              "We recommend you <a href=\"https://www.tensorflow.org/guide/migrate\" target=\"_blank\">upgrade</a> now \n",
              "or ensure your notebook will continue to use TensorFlow 1.x via the <code>%tensorflow_version 1.x</code> magic:\n",
              "<a href=\"https://colab.research.google.com/notebooks/tensorflow_version.ipynb\" target=\"_blank\">more info</a>.</p>\n"
            ],
            "text/plain": [
              "<IPython.core.display.HTML object>"
            ]
          },
          "metadata": {
            "tags": []
          }
        }
      ]
    },
    {
      "cell_type": "code",
      "metadata": {
        "id": "--LlyUorVvqB",
        "colab_type": "code",
        "colab": {}
      },
      "source": [
        "from tensorflow import keras\n",
        "import numpy as np  \n",
        "import matplotlib.pyplot as plt"
      ],
      "execution_count": 0,
      "outputs": []
    },
    {
      "cell_type": "code",
      "metadata": {
        "id": "lnX6zsNfWI2s",
        "colab_type": "code",
        "outputId": "8e02e806-b378-48c8-a846-429930e05b18",
        "colab": {
          "base_uri": "https://localhost:8080/",
          "height": 153
        }
      },
      "source": [
        "ClothData = keras.datasets.fashion_mnist #Mnist has gather data of clothes, we just used that data\n",
        "(TestData, TestLabel) , (TrainData , TrainLabel) = ClothData.load_data() # Test Data nad Train Data has images while Train Labels and Test Labels has labels from 0 to 9"
      ],
      "execution_count": 4,
      "outputs": [
        {
          "output_type": "stream",
          "text": [
            "Downloading data from https://storage.googleapis.com/tensorflow/tf-keras-datasets/train-labels-idx1-ubyte.gz\n",
            "32768/29515 [=================================] - 0s 0us/step\n",
            "Downloading data from https://storage.googleapis.com/tensorflow/tf-keras-datasets/train-images-idx3-ubyte.gz\n",
            "26427392/26421880 [==============================] - 0s 0us/step\n",
            "Downloading data from https://storage.googleapis.com/tensorflow/tf-keras-datasets/t10k-labels-idx1-ubyte.gz\n",
            "8192/5148 [===============================================] - 0s 0us/step\n",
            "Downloading data from https://storage.googleapis.com/tensorflow/tf-keras-datasets/t10k-images-idx3-ubyte.gz\n",
            "4423680/4422102 [==============================] - 0s 0us/step\n"
          ],
          "name": "stdout"
        }
      ]
    },
    {
      "cell_type": "code",
      "metadata": {
        "id": "eCfz1atRW-lJ",
        "colab_type": "code",
        "outputId": "8bfd5f5d-51cc-40a4-8ce6-d419c9174dbb",
        "colab": {
          "base_uri": "https://localhost:8080/",
          "height": 34
        }
      },
      "source": [
        "TrainData.shape"
      ],
      "execution_count": 5,
      "outputs": [
        {
          "output_type": "execute_result",
          "data": {
            "text/plain": [
              "(10000, 28, 28)"
            ]
          },
          "metadata": {
            "tags": []
          },
          "execution_count": 5
        }
      ]
    },
    {
      "cell_type": "code",
      "metadata": {
        "id": "f3ifVUt4XcLt",
        "colab_type": "code",
        "outputId": "dfb28e4a-f476-48a4-dc62-da27138aaded",
        "colab": {
          "base_uri": "https://localhost:8080/",
          "height": 34
        }
      },
      "source": [
        "TestData.shape "
      ],
      "execution_count": 6,
      "outputs": [
        {
          "output_type": "execute_result",
          "data": {
            "text/plain": [
              "(60000, 28, 28)"
            ]
          },
          "metadata": {
            "tags": []
          },
          "execution_count": 6
        }
      ]
    },
    {
      "cell_type": "code",
      "metadata": {
        "id": "LmDuPzjRXm1K",
        "colab_type": "code",
        "outputId": "d129156b-7349-4f88-fee2-faba2c79bbbe",
        "colab": {
          "base_uri": "https://localhost:8080/",
          "height": 34
        }
      },
      "source": [
        "TrainLabel # train label has label from 0 to 9"
      ],
      "execution_count": 7,
      "outputs": [
        {
          "output_type": "execute_result",
          "data": {
            "text/plain": [
              "array([9, 2, 1, ..., 8, 1, 5], dtype=uint8)"
            ]
          },
          "metadata": {
            "tags": []
          },
          "execution_count": 7
        }
      ]
    },
    {
      "cell_type": "code",
      "metadata": {
        "id": "sTL29R6RXxdA",
        "colab_type": "code",
        "outputId": "267ee736-b774-41cd-87e3-a41217c13a86",
        "colab": {
          "base_uri": "https://localhost:8080/",
          "height": 265
        }
      },
      "source": [
        "# let's check the first image of our testData\n",
        "plt.figure()\n",
        "plt.imshow(TestData[0])\n",
        "plt.show()"
      ],
      "execution_count": 8,
      "outputs": [
        {
          "output_type": "display_data",
          "data": {
            "image/png": "[encoded data removed]",
            "text/plain": [
              "<Figure size 432x288 with 1 Axes>"
            ]
          },
          "metadata": {
            "tags": []
          }
        }
      ]
    },
    {
      "cell_type": "code",
      "metadata": {
        "id": "OkyJaN6aYala",
        "colab_type": "code",
        "colab": {}
      },
      "source": [
        "#above image looks like an image of a shoes, and pixels values are ranging from 0 - 255\n",
        "# Now 1 thing to be noted that labels are in integer, so we will assign each label with its class Name in respective order\n",
        "ClothName = ['T-shirt/top', 'Trouser', 'Pullover', 'Dress', 'Coat', 'Sandal', 'Shirt', 'Sneaker', 'Bag', 'Ankle boot']\n",
        "#now scale pixels values from 0 - 1, for that divided it by 255\n",
        "TrainData = TrainData/255\n",
        "TestData = TestData/255"
      ],
      "execution_count": 0,
      "outputs": []
    },
    {
      "cell_type": "code",
      "metadata": {
        "id": "TmTy82EHZl3t",
        "colab_type": "code",
        "outputId": "9c527137-8500-4074-f0cb-b08ed951ff4a",
        "colab": {
          "base_uri": "https://localhost:8080/",
          "height": 589
        }
      },
      "source": [
        "#now Let's again plot first 30 images of TrainData and polt them with their Colth's name, to verify that it is in correct order\n",
        "plt.figure(figsize=(10,10))\n",
        "for i in range(30):\n",
        "    plt.subplot(6,5,i+1)\n",
        "    plt.xticks([])\n",
        "    plt.yticks([])\n",
        "    plt.imshow(TrainData[i], cmap=plt.cm.binary)\n",
        "    plt.xlabel(ClothName[TrainLabel[i]])\n",
        "plt.show()"
      ],
      "execution_count": 10,
      "outputs": [
        {
          "output_type": "display_data",
          "data": {
            "image/png": "[encoded data removed]",
            "text/plain": [
              "<Figure size 720x720 with 30 Axes>"
            ]
          },
          "metadata": {
            "tags": []
          }
        }
      ]
    },
    {
      "cell_type": "code",
      "metadata": {
        "id": "RVlvPu7EbQSv",
        "colab_type": "code",
        "outputId": "3356107b-6b4c-491e-d542-6cbf15d0c16c",
        "colab": {
          "base_uri": "https://localhost:8080/",
          "height": 462
        }
      },
      "source": [
        "# It's Verify that our Data is correct, Now Let's Train pur Model\n",
        "ClothModel = keras.Sequential([\n",
        "                               keras.layers.Flatten(input_shape = (28,28)), # as we have seen our data is in 28,28\n",
        "                               keras.layers.Dense(128,activation='relu'),\n",
        "                               keras.layers.Dense(10,activation = 'softmax')\n",
        "])\n",
        "ClothModel.compile(optimizer = 'adam' , loss = 'sparse_categorical_crossentropy' , metrics = ['accuracy'])\n",
        "ClothModel.fit(TrainData,TrainLabel,epochs = 10)"
      ],
      "execution_count": 11,
      "outputs": [
        {
          "output_type": "stream",
          "text": [
            "WARNING:tensorflow:From /usr/local/lib/python3.6/dist-packages/tensorflow_core/python/ops/resource_variable_ops.py:1630: calling BaseResourceVariable.__init__ (from tensorflow.python.ops.resource_variable_ops) with constraint is deprecated and will be removed in a future version.\n",
            "Instructions for updating:\n",
            "If using Keras pass *_constraint arguments to layers.\n",
            "Train on 10000 samples\n",
            "Epoch 1/10\n",
            "10000/10000 [==============================] - 1s 117us/sample - loss: 0.7321 - acc: 0.7432\n",
            "Epoch 2/10\n",
            "10000/10000 [==============================] - 1s 86us/sample - loss: 0.5133 - acc: 0.8204\n",
            "Epoch 3/10\n",
            "10000/10000 [==============================] - 1s 85us/sample - loss: 0.4579 - acc: 0.8373\n",
            "Epoch 4/10\n",
            "10000/10000 [==============================] - 1s 83us/sample - loss: 0.4235 - acc: 0.8511\n",
            "Epoch 5/10\n",
            "10000/10000 [==============================] - 1s 80us/sample - loss: 0.3997 - acc: 0.8586\n",
            "Epoch 6/10\n",
            "10000/10000 [==============================] - 1s 80us/sample - loss: 0.3811 - acc: 0.8601\n",
            "Epoch 7/10\n",
            "10000/10000 [==============================] - 1s 79us/sample - loss: 0.3516 - acc: 0.8701\n",
            "Epoch 8/10\n",
            "10000/10000 [==============================] - 1s 82us/sample - loss: 0.3387 - acc: 0.8810\n",
            "Epoch 9/10\n",
            "10000/10000 [==============================] - 1s 83us/sample - loss: 0.3229 - acc: 0.8851\n",
            "Epoch 10/10\n",
            "10000/10000 [==============================] - 1s 82us/sample - loss: 0.3118 - acc: 0.8892\n"
          ],
          "name": "stdout"
        },
        {
          "output_type": "execute_result",
          "data": {
            "text/plain": [
              "<tensorflow.python.keras.callbacks.History at 0x7fe6dfad3f60>"
            ]
          },
          "metadata": {
            "tags": []
          },
          "execution_count": 11
        }
      ]
    },
    {
      "cell_type": "code",
      "metadata": {
        "id": "cdZmY-MZejEy",
        "colab_type": "code",
        "outputId": "68d29474-b8ab-49ce-b371-ffc589910376",
        "colab": {
          "base_uri": "https://localhost:8080/",
          "height": 34
        }
      },
      "source": [
        "#accuracy is 88% with TrainData, let's check it with Test Data, and evaluate accuaracy with unseen Data\n",
        "loss , accuracy = ClothModel.evaluate(TestData,TestLabel,verbose=2)\n"
      ],
      "execution_count": 12,
      "outputs": [
        {
          "output_type": "stream",
          "text": [
            "60000/60000 - 2s - loss: 0.3896 - acc: 0.8607\n"
          ],
          "name": "stdout"
        }
      ]
    },
    {
      "cell_type": "code",
      "metadata": {
        "id": "Up13aKgWfI4-",
        "colab_type": "code",
        "outputId": "c0c24223-9a2f-4577-a6fc-e5d789774021",
        "colab": {
          "base_uri": "https://localhost:8080/",
          "height": 34
        }
      },
      "source": [
        "# Test Accuracy is less than the Train Accuracy, It means oue model is less confident for unseen data\n",
        "# Now Let's Test it for a single Image and evaluate our Model.\n",
        "# and use our Train Model for check it on single Image\n",
        "# as I have no other image now, so i am testing it with image randomly pick from test Data\n",
        "index = np.random.randint(0,10000)\n",
        "img = TestData[index]\n",
        "img = (np.expand_dims(img,0)) # we must add image to a list bcz our flatter layers accept data in a list\n",
        "print(img.shape)"
      ],
      "execution_count": 31,
      "outputs": [
        {
          "output_type": "stream",
          "text": [
            "(1, 28, 28)\n"
          ],
          "name": "stdout"
        }
      ]
    },
    {
      "cell_type": "code",
      "metadata": {
        "id": "Y1LD4OZ-g5si",
        "colab_type": "code",
        "colab": {}
      },
      "source": [
        "result = ClothModel.predict(img)"
      ],
      "execution_count": 0,
      "outputs": []
    },
    {
      "cell_type": "code",
      "metadata": {
        "id": "_I2xU06GhmsK",
        "colab_type": "code",
        "outputId": "d665685d-591b-4656-d84d-81ec8120ecb6",
        "colab": {
          "base_uri": "https://localhost:8080/",
          "height": 51
        }
      },
      "source": [
        "print(result)"
      ],
      "execution_count": 33,
      "outputs": [
        {
          "output_type": "stream",
          "text": [
            "[[4.8699771e-04 1.6821406e-04 2.6890519e-01 1.9128018e-03 6.6606486e-01\n",
            "  6.1902319e-09 6.0911901e-02 1.3121648e-07 1.5499266e-03 2.2274559e-10]]\n"
          ],
          "name": "stdout"
        }
      ]
    },
    {
      "cell_type": "code",
      "metadata": {
        "id": "yZ97Fdk9iZMl",
        "colab_type": "code",
        "outputId": "e2bb7c8a-08d1-4abc-88c1-7ce8ba1033b3",
        "colab": {
          "base_uri": "https://localhost:8080/",
          "height": 34
        }
      },
      "source": [
        "#It returns list of labels and correct answer would be max value of this list\n",
        "correctResult = np.argmax(result)\n",
        "correctResult"
      ],
      "execution_count": 34,
      "outputs": [
        {
          "output_type": "execute_result",
          "data": {
            "text/plain": [
              "4"
            ]
          },
          "metadata": {
            "tags": []
          },
          "execution_count": 34
        }
      ]
    },
    {
      "cell_type": "code",
      "metadata": {
        "id": "mQ6gQ_9LjNsJ",
        "colab_type": "code",
        "outputId": "d8751dd9-9f80-41de-951e-86fe28a389f5",
        "colab": {
          "base_uri": "https://localhost:8080/",
          "height": 262
        }
      },
      "source": [
        "# let's plot that image in graph and check whether our result is accurate or not\n",
        "plt.figure()\n",
        "plt.grid(False)\n",
        "plt.xticks([])\n",
        "plt.yticks([])\n",
        "plt.imshow(TestData[index], cmap = plt.cm.binary) # plot original image with predicted result\n",
        "plt.xlabel(ClothName[correctResult])\n",
        "plt.show()"
      ],
      "execution_count": 35,
      "outputs": [
        {
          "output_type": "display_data",
          "data": {
            "image/png": "[encoded data removed]",
            "text/plain": [
              "<Figure size 432x288 with 1 Axes>"
            ]
          },
          "metadata": {
            "tags": []
          }
        }
      ]
    }
  ]
}